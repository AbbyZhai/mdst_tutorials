{
 "cells": [
  {
   "cell_type": "markdown",
   "metadata": {
    "colab_type": "text",
    "id": "0a8IYAJUshu1"
   },
   "source": [
    "# Exercises"
   ]
  },
  {
   "cell_type": "markdown",
   "metadata": {},
   "source": [
    "These exercises are a mix of Python and pandas/EDA practice. Most should be no more than a few lines of code! "
   ]
  },
  {
   "cell_type": "code",
   "execution_count": 13,
   "metadata": {
    "colab": {},
    "colab_type": "code",
    "id": "Jo6wuTgkshu1"
   },
   "outputs": [],
   "source": [
    "# here is a Python list:\n",
    "\n",
    "a = [1, 2, 3, 4, 5, 6]\n",
    "\n",
    "# get a list containing the last 3 elements of a\n",
    "lst1 = a[-3:]\n",
    "# reverse the list\n",
    "lst1.reverse()\n",
    "# get a list where each entry in a is squared (so the new list is [1, 4, 9, 16, 25, 36])\n",
    "lst2 = [i**2 for i in a]"
   ]
  },
  {
   "cell_type": "code",
   "execution_count": 19,
   "metadata": {
    "colab": {},
    "colab_type": "code",
    "id": "qANtg5kQshu2"
   },
   "outputs": [],
   "source": [
    "# create a numpy array from this list\n",
    "import numpy as np\n",
    "b = np.array(a) # change this"
   ]
  },
  {
   "cell_type": "code",
   "execution_count": 20,
   "metadata": {
    "colab": {},
    "colab_type": "code",
    "id": "91CXRflLshu4"
   },
   "outputs": [
    {
     "data": {
      "text/plain": [
       "3.5"
      ]
     },
     "execution_count": 20,
     "metadata": {},
     "output_type": "execute_result"
    }
   ],
   "source": [
    "# find the mean of b\n",
    "b.mean()"
   ]
  },
  {
   "cell_type": "code",
   "execution_count": 24,
   "metadata": {
    "colab": {},
    "colab_type": "code",
    "id": "ZJZFwzQfshu9"
   },
   "outputs": [],
   "source": [
    "# get a list where each entry in b is squared (so the new numpy array is [1, 4, 9, 16, 25, 36])\n",
    "# use a different (numpy-specific) approach\n",
    "lst3 = pow(b,2)\n"
   ]
  },
  {
   "cell_type": "code",
   "execution_count": 29,
   "metadata": {
    "colab": {},
    "colab_type": "code",
    "id": "ajbA5rCCshu5"
   },
   "outputs": [
    {
     "data": {
      "text/plain": [
       "array([[1, 2, 3],\n",
       "       [4, 5, 6]])"
      ]
     },
     "execution_count": 29,
     "metadata": {},
     "output_type": "execute_result"
    }
   ],
   "source": [
    "# change b from a length-6 list to a 2x3 matrix\n",
    "b = b.reshape(2,3)\n",
    "b"
   ]
  },
  {
   "cell_type": "code",
   "execution_count": 28,
   "metadata": {
    "colab": {},
    "colab_type": "code",
    "id": "wancU_PWshu6"
   },
   "outputs": [
    {
     "data": {
      "text/plain": [
       "array([2., 5.])"
      ]
     },
     "execution_count": 28,
     "metadata": {},
     "output_type": "execute_result"
    }
   ],
   "source": [
    "# find the mean value of each row\n",
    "np.mean(b,axis=1)"
   ]
  },
  {
   "cell_type": "code",
   "execution_count": 30,
   "metadata": {
    "colab": {},
    "colab_type": "code",
    "id": "N3hXBrBtshu7"
   },
   "outputs": [
    {
     "data": {
      "text/plain": [
       "array([2.5, 3.5, 4.5])"
      ]
     },
     "execution_count": 30,
     "metadata": {},
     "output_type": "execute_result"
    }
   ],
   "source": [
    "# find the mean value of each column\n",
    "np.mean(b, axis=0)"
   ]
  },
  {
   "cell_type": "code",
   "execution_count": 34,
   "metadata": {
    "colab": {},
    "colab_type": "code",
    "id": "GvbO8gBXshu8"
   },
   "outputs": [
    {
     "data": {
      "text/plain": [
       "array([3, 6])"
      ]
     },
     "execution_count": 34,
     "metadata": {},
     "output_type": "execute_result"
    }
   ],
   "source": [
    "# find the third column of b\n",
    "b[:,2]"
   ]
  },
  {
   "cell_type": "code",
   "execution_count": 35,
   "metadata": {
    "colab": {},
    "colab_type": "code",
    "id": "WzCQ5HOJshvA"
   },
   "outputs": [],
   "source": [
    "# load in the \"starbucks_clean.csv\" dataset\n",
    "import pandas as pd\n",
    "df = pd.read_csv('../data/starbucks_clean.csv')"
   ]
  },
  {
   "cell_type": "code",
   "execution_count": 36,
   "metadata": {},
   "outputs": [
    {
     "data": {
      "text/html": [
       "<div>\n",
       "<style scoped>\n",
       "    .dataframe tbody tr th:only-of-type {\n",
       "        vertical-align: middle;\n",
       "    }\n",
       "\n",
       "    .dataframe tbody tr th {\n",
       "        vertical-align: top;\n",
       "    }\n",
       "\n",
       "    .dataframe thead th {\n",
       "        text-align: right;\n",
       "    }\n",
       "</style>\n",
       "<table border=\"1\" class=\"dataframe\">\n",
       "  <thead>\n",
       "    <tr style=\"text-align: right;\">\n",
       "      <th></th>\n",
       "      <th>beverage_category</th>\n",
       "      <th>beverage</th>\n",
       "      <th>beverage_prep</th>\n",
       "      <th>calories</th>\n",
       "      <th>total fat</th>\n",
       "      <th>trans fat</th>\n",
       "      <th>saturated fat</th>\n",
       "      <th>sodium</th>\n",
       "      <th>total carbohydrates</th>\n",
       "      <th>cholesterol</th>\n",
       "      <th>dietary fibre</th>\n",
       "      <th>sugars</th>\n",
       "      <th>protein</th>\n",
       "      <th>vitamin a</th>\n",
       "      <th>vitamin c</th>\n",
       "      <th>calcium</th>\n",
       "      <th>iron</th>\n",
       "      <th>caffeine</th>\n",
       "    </tr>\n",
       "  </thead>\n",
       "  <tbody>\n",
       "    <tr>\n",
       "      <th>0</th>\n",
       "      <td>coffee</td>\n",
       "      <td>brewedcoffee</td>\n",
       "      <td>Short</td>\n",
       "      <td>3</td>\n",
       "      <td>0.1</td>\n",
       "      <td>0.0</td>\n",
       "      <td>0.0</td>\n",
       "      <td>0</td>\n",
       "      <td>5</td>\n",
       "      <td>0</td>\n",
       "      <td>0</td>\n",
       "      <td>0</td>\n",
       "      <td>0.3</td>\n",
       "      <td>0</td>\n",
       "      <td>0</td>\n",
       "      <td>0</td>\n",
       "      <td>0</td>\n",
       "      <td>175</td>\n",
       "    </tr>\n",
       "    <tr>\n",
       "      <th>1</th>\n",
       "      <td>coffee</td>\n",
       "      <td>brewedcoffee</td>\n",
       "      <td>Tall</td>\n",
       "      <td>4</td>\n",
       "      <td>0.1</td>\n",
       "      <td>0.0</td>\n",
       "      <td>0.0</td>\n",
       "      <td>0</td>\n",
       "      <td>10</td>\n",
       "      <td>0</td>\n",
       "      <td>0</td>\n",
       "      <td>0</td>\n",
       "      <td>0.5</td>\n",
       "      <td>0</td>\n",
       "      <td>0</td>\n",
       "      <td>0</td>\n",
       "      <td>0</td>\n",
       "      <td>260</td>\n",
       "    </tr>\n",
       "    <tr>\n",
       "      <th>2</th>\n",
       "      <td>coffee</td>\n",
       "      <td>brewedcoffee</td>\n",
       "      <td>Grande</td>\n",
       "      <td>5</td>\n",
       "      <td>0.1</td>\n",
       "      <td>0.0</td>\n",
       "      <td>0.0</td>\n",
       "      <td>0</td>\n",
       "      <td>10</td>\n",
       "      <td>0</td>\n",
       "      <td>0</td>\n",
       "      <td>0</td>\n",
       "      <td>1.0</td>\n",
       "      <td>0</td>\n",
       "      <td>0</td>\n",
       "      <td>0</td>\n",
       "      <td>0</td>\n",
       "      <td>330</td>\n",
       "    </tr>\n",
       "    <tr>\n",
       "      <th>3</th>\n",
       "      <td>coffee</td>\n",
       "      <td>brewedcoffee</td>\n",
       "      <td>Venti</td>\n",
       "      <td>5</td>\n",
       "      <td>0.1</td>\n",
       "      <td>0.0</td>\n",
       "      <td>0.0</td>\n",
       "      <td>0</td>\n",
       "      <td>10</td>\n",
       "      <td>0</td>\n",
       "      <td>0</td>\n",
       "      <td>0</td>\n",
       "      <td>1.0</td>\n",
       "      <td>0</td>\n",
       "      <td>0</td>\n",
       "      <td>2</td>\n",
       "      <td>0</td>\n",
       "      <td>410</td>\n",
       "    </tr>\n",
       "    <tr>\n",
       "      <th>4</th>\n",
       "      <td>classicespressodrinks</td>\n",
       "      <td>cafflatte</td>\n",
       "      <td>Short Nonfat Milk</td>\n",
       "      <td>70</td>\n",
       "      <td>0.1</td>\n",
       "      <td>0.1</td>\n",
       "      <td>0.0</td>\n",
       "      <td>5</td>\n",
       "      <td>75</td>\n",
       "      <td>10</td>\n",
       "      <td>0</td>\n",
       "      <td>9</td>\n",
       "      <td>6.0</td>\n",
       "      <td>10</td>\n",
       "      <td>0</td>\n",
       "      <td>20</td>\n",
       "      <td>0</td>\n",
       "      <td>75</td>\n",
       "    </tr>\n",
       "  </tbody>\n",
       "</table>\n",
       "</div>"
      ],
      "text/plain": [
       "       beverage_category      beverage      beverage_prep  calories  \\\n",
       "0                 coffee  brewedcoffee              Short         3   \n",
       "1                 coffee  brewedcoffee               Tall         4   \n",
       "2                 coffee  brewedcoffee             Grande         5   \n",
       "3                 coffee  brewedcoffee              Venti         5   \n",
       "4  classicespressodrinks     cafflatte  Short Nonfat Milk        70   \n",
       "\n",
       "   total fat  trans fat  saturated fat   sodium  total carbohydrates  \\\n",
       "0        0.1        0.0            0.0        0                    5   \n",
       "1        0.1        0.0            0.0        0                   10   \n",
       "2        0.1        0.0            0.0        0                   10   \n",
       "3        0.1        0.0            0.0        0                   10   \n",
       "4        0.1        0.1            0.0        5                   75   \n",
       "\n",
       "   cholesterol  dietary fibre  sugars  protein  vitamin a  vitamin c  calcium  \\\n",
       "0            0              0       0      0.3          0          0        0   \n",
       "1            0              0       0      0.5          0          0        0   \n",
       "2            0              0       0      1.0          0          0        0   \n",
       "3            0              0       0      1.0          0          0        2   \n",
       "4           10              0       9      6.0         10          0       20   \n",
       "\n",
       "   iron  caffeine  \n",
       "0     0       175  \n",
       "1     0       260  \n",
       "2     0       330  \n",
       "3     0       410  \n",
       "4     0        75  "
      ]
     },
     "execution_count": 36,
     "metadata": {},
     "output_type": "execute_result"
    }
   ],
   "source": [
    "df.head()"
   ]
  },
  {
   "cell_type": "code",
   "execution_count": 37,
   "metadata": {
    "colab": {},
    "colab_type": "code",
    "id": "rIoxaSxHshvB"
   },
   "outputs": [
    {
     "data": {
      "text/plain": [
       "193.87190082644628"
      ]
     },
     "execution_count": 37,
     "metadata": {},
     "output_type": "execute_result"
    }
   ],
   "source": [
    "# this is nutritional info for starbucks items\n",
    "# let's see if we can answer some questions\n",
    "\n",
    "# what is the average # calories across all items?\n",
    "df['calories'].mean()"
   ]
  },
  {
   "cell_type": "code",
   "execution_count": 45,
   "metadata": {
    "colab": {},
    "colab_type": "code",
    "id": "ABX7i49FshvD"
   },
   "outputs": [
    {
     "data": {
      "text/plain": [
       "9"
      ]
     },
     "execution_count": 45,
     "metadata": {},
     "output_type": "execute_result"
    }
   ],
   "source": [
    "# how many different categories of beverages are there?\n",
    "df['beverage_category'].unique().size"
   ]
  },
  {
   "cell_type": "code",
   "execution_count": 47,
   "metadata": {
    "colab": {},
    "colab_type": "code",
    "id": "P9QatZAzshvE",
    "scrolled": true
   },
   "outputs": [
    {
     "data": {
      "text/plain": [
       "beverage_category\n",
       "classicespressodrinks            140.172414\n",
       "coffee                             4.250000\n",
       "frappuccinoblendedcoffee         276.944444\n",
       "frappuccinoblendedcrme           233.076923\n",
       "frappuccinolightblendedcoffee    162.500000\n",
       "shakenicedbeverages              114.444444\n",
       "signatureespressodrinks          250.000000\n",
       "smoothies                        282.222222\n",
       "tazoteadrinks                    177.307692\n",
       "Name: calories, dtype: float64"
      ]
     },
     "execution_count": 47,
     "metadata": {},
     "output_type": "execute_result"
    }
   ],
   "source": [
    "# what is the average # calories for each beverage category?\n",
    "df.groupby('beverage_category')['calories'].mean()"
   ]
  },
  {
   "cell_type": "code",
   "execution_count": 54,
   "metadata": {
    "colab": {},
    "colab_type": "code",
    "id": "y8KEpYNkshvG"
   },
   "outputs": [
    {
     "data": {
      "text/plain": [
       "'Whole Milk'"
      ]
     },
     "execution_count": 54,
     "metadata": {},
     "output_type": "execute_result"
    }
   ],
   "source": [
    "# what beverage preparation includes the most sugar on average?\n",
    "df.groupby('beverage_prep')['sugars'].mean().sort_values(ascending=False).index[0]"
   ]
  },
  {
   "cell_type": "code",
   "execution_count": 57,
   "metadata": {
    "colab": {},
    "colab_type": "code",
    "collapsed": true,
    "id": "MnbCEJw8shvH"
   },
   "outputs": [
    {
     "data": {
      "text/plain": [
       "beverage\n",
       "whitechocolatemochawithoutwhippedcream       41.250000\n",
       "tazogreentealatte                            39.166667\n",
       "cafflatte                                    35.000000\n",
       "hotchocolatewithoutwhippedcream              35.000000\n",
       "skinnylatteanyflavour                        33.750000\n",
       "vanillalatteorotherflavouredlatte            32.916667\n",
       "caffmochawithoutwhippedcream                 30.000000\n",
       "caramelmacchiato                             28.333333\n",
       "cappuccino                                   22.500000\n",
       "tazochaitealatte                             21.666667\n",
       "tazofullleaftealatte                         20.833333\n",
       "tazofullleafredtealattevanillarooibos        20.833333\n",
       "bananachocolatesmoothie                      20.000000\n",
       "strawberriescrmewithoutwhippedcream          15.000000\n",
       "javachipwithoutwhippedcream                  12.555556\n",
       "coffee                                       12.333333\n",
       "mochawithoutwhippedcream                     12.000000\n",
       "caramelwithoutwhippedcream                   12.000000\n",
       "javachip                                     11.666667\n",
       "vanillabeanwithoutwhippedcream               11.250000\n",
       "mocha                                        11.000000\n",
       "caramel                                      11.000000\n",
       "strawberrybananasmoothie                     10.000000\n",
       "orangemangobananasmoothie                    10.000000\n",
       "icedbrewedcoffeewithmilkclassicsyrup          8.000000\n",
       "caffamericano                                 1.500000\n",
       "brewedcoffee                                  0.500000\n",
       "icedbrewedcoffeewithclassicsyrup              0.000000\n",
       "shakenicedtazoteawithclassicsyrup             0.000000\n",
       "espresso                                      0.000000\n",
       "shakenicedtazotealemonadewithclassicsyrup     0.000000\n",
       "caramelapplespicewithoutwhippedcream          0.000000\n",
       "tazotea                                       0.000000\n",
       "Name: calcium, dtype: float64"
      ]
     },
     "execution_count": 57,
     "metadata": {},
     "output_type": "execute_result"
    }
   ],
   "source": [
    "# what is the average % daily value calcium content for each beverage?\n",
    "df.groupby('beverage')['calcium'].mean().sort_values(ascending=False)"
   ]
  },
  {
   "cell_type": "code",
   "execution_count": 64,
   "metadata": {
    "colab": {},
    "colab_type": "code",
    "collapsed": true,
    "id": "Nv5dksj_shvJ"
   },
   "outputs": [
    {
     "data": {
      "text/html": [
       "<div>\n",
       "<style scoped>\n",
       "    .dataframe tbody tr th:only-of-type {\n",
       "        vertical-align: middle;\n",
       "    }\n",
       "\n",
       "    .dataframe tbody tr th {\n",
       "        vertical-align: top;\n",
       "    }\n",
       "\n",
       "    .dataframe thead th {\n",
       "        text-align: right;\n",
       "    }\n",
       "</style>\n",
       "<table border=\"1\" class=\"dataframe\">\n",
       "  <thead>\n",
       "    <tr style=\"text-align: right;\">\n",
       "      <th></th>\n",
       "      <th>protein</th>\n",
       "      <th>calories</th>\n",
       "    </tr>\n",
       "    <tr>\n",
       "      <th>beverage</th>\n",
       "      <th></th>\n",
       "      <th></th>\n",
       "    </tr>\n",
       "  </thead>\n",
       "  <tbody>\n",
       "    <tr>\n",
       "      <th>bananachocolatesmoothie</th>\n",
       "      <td>20.0</td>\n",
       "      <td>280</td>\n",
       "    </tr>\n",
       "    <tr>\n",
       "      <th>whitechocolatemochawithoutwhippedcream</th>\n",
       "      <td>19.0</td>\n",
       "      <td>180</td>\n",
       "    </tr>\n",
       "    <tr>\n",
       "      <th>hotchocolatewithoutwhippedcream</th>\n",
       "      <td>18.0</td>\n",
       "      <td>130</td>\n",
       "    </tr>\n",
       "    <tr>\n",
       "      <th>tazogreentealatte</th>\n",
       "      <td>18.0</td>\n",
       "      <td>130</td>\n",
       "    </tr>\n",
       "    <tr>\n",
       "      <th>caffmochawithoutwhippedcream</th>\n",
       "      <td>17.0</td>\n",
       "      <td>110</td>\n",
       "    </tr>\n",
       "    <tr>\n",
       "      <th>cafflatte</th>\n",
       "      <td>16.0</td>\n",
       "      <td>70</td>\n",
       "    </tr>\n",
       "    <tr>\n",
       "      <th>orangemangobananasmoothie</th>\n",
       "      <td>16.0</td>\n",
       "      <td>260</td>\n",
       "    </tr>\n",
       "    <tr>\n",
       "      <th>strawberrybananasmoothie</th>\n",
       "      <td>16.0</td>\n",
       "      <td>290</td>\n",
       "    </tr>\n",
       "    <tr>\n",
       "      <th>skinnylatteanyflavour</th>\n",
       "      <td>15.0</td>\n",
       "      <td>60</td>\n",
       "    </tr>\n",
       "    <tr>\n",
       "      <th>vanillalatteorotherflavouredlatte</th>\n",
       "      <td>15.0</td>\n",
       "      <td>100</td>\n",
       "    </tr>\n",
       "    <tr>\n",
       "      <th>caramelmacchiato</th>\n",
       "      <td>13.0</td>\n",
       "      <td>100</td>\n",
       "    </tr>\n",
       "    <tr>\n",
       "      <th>cappuccino</th>\n",
       "      <td>10.0</td>\n",
       "      <td>50</td>\n",
       "    </tr>\n",
       "    <tr>\n",
       "      <th>tazochaitealatte</th>\n",
       "      <td>10.0</td>\n",
       "      <td>100</td>\n",
       "    </tr>\n",
       "    <tr>\n",
       "      <th>tazofullleafredtealattevanillarooibos</th>\n",
       "      <td>9.0</td>\n",
       "      <td>80</td>\n",
       "    </tr>\n",
       "    <tr>\n",
       "      <th>tazofullleaftealatte</th>\n",
       "      <td>9.0</td>\n",
       "      <td>80</td>\n",
       "    </tr>\n",
       "    <tr>\n",
       "      <th>javachip</th>\n",
       "      <td>7.0</td>\n",
       "      <td>150</td>\n",
       "    </tr>\n",
       "    <tr>\n",
       "      <th>mochawithoutwhippedcream</th>\n",
       "      <td>7.0</td>\n",
       "      <td>180</td>\n",
       "    </tr>\n",
       "    <tr>\n",
       "      <th>javachipwithoutwhippedcream</th>\n",
       "      <td>7.0</td>\n",
       "      <td>220</td>\n",
       "    </tr>\n",
       "    <tr>\n",
       "      <th>coffee</th>\n",
       "      <td>6.0</td>\n",
       "      <td>90</td>\n",
       "    </tr>\n",
       "    <tr>\n",
       "      <th>mocha</th>\n",
       "      <td>6.0</td>\n",
       "      <td>110</td>\n",
       "    </tr>\n",
       "    <tr>\n",
       "      <th>strawberriescrmewithoutwhippedcream</th>\n",
       "      <td>6.0</td>\n",
       "      <td>170</td>\n",
       "    </tr>\n",
       "    <tr>\n",
       "      <th>caramel</th>\n",
       "      <td>5.0</td>\n",
       "      <td>100</td>\n",
       "    </tr>\n",
       "    <tr>\n",
       "      <th>vanillabeanwithoutwhippedcream</th>\n",
       "      <td>5.0</td>\n",
       "      <td>170</td>\n",
       "    </tr>\n",
       "    <tr>\n",
       "      <th>caramelwithoutwhippedcream</th>\n",
       "      <td>5.0</td>\n",
       "      <td>180</td>\n",
       "    </tr>\n",
       "    <tr>\n",
       "      <th>icedbrewedcoffeewithmilkclassicsyrup</th>\n",
       "      <td>4.0</td>\n",
       "      <td>80</td>\n",
       "    </tr>\n",
       "    <tr>\n",
       "      <th>brewedcoffee</th>\n",
       "      <td>1.0</td>\n",
       "      <td>3</td>\n",
       "    </tr>\n",
       "    <tr>\n",
       "      <th>caffamericano</th>\n",
       "      <td>1.0</td>\n",
       "      <td>5</td>\n",
       "    </tr>\n",
       "    <tr>\n",
       "      <th>espresso</th>\n",
       "      <td>1.0</td>\n",
       "      <td>5</td>\n",
       "    </tr>\n",
       "    <tr>\n",
       "      <th>icedbrewedcoffeewithclassicsyrup</th>\n",
       "      <td>0.4</td>\n",
       "      <td>60</td>\n",
       "    </tr>\n",
       "    <tr>\n",
       "      <th>shakenicedtazotealemonadewithclassicsyrup</th>\n",
       "      <td>0.1</td>\n",
       "      <td>100</td>\n",
       "    </tr>\n",
       "    <tr>\n",
       "      <th>tazotea</th>\n",
       "      <td>0.0</td>\n",
       "      <td>0</td>\n",
       "    </tr>\n",
       "    <tr>\n",
       "      <th>shakenicedtazoteawithclassicsyrup</th>\n",
       "      <td>0.0</td>\n",
       "      <td>60</td>\n",
       "    </tr>\n",
       "    <tr>\n",
       "      <th>caramelapplespicewithoutwhippedcream</th>\n",
       "      <td>0.0</td>\n",
       "      <td>140</td>\n",
       "    </tr>\n",
       "  </tbody>\n",
       "</table>\n",
       "</div>"
      ],
      "text/plain": [
       "                                           protein  calories\n",
       "beverage                                                    \n",
       "bananachocolatesmoothie                       20.0       280\n",
       "whitechocolatemochawithoutwhippedcream        19.0       180\n",
       "hotchocolatewithoutwhippedcream               18.0       130\n",
       "tazogreentealatte                             18.0       130\n",
       "caffmochawithoutwhippedcream                  17.0       110\n",
       "cafflatte                                     16.0        70\n",
       "orangemangobananasmoothie                     16.0       260\n",
       "strawberrybananasmoothie                      16.0       290\n",
       "skinnylatteanyflavour                         15.0        60\n",
       "vanillalatteorotherflavouredlatte             15.0       100\n",
       "caramelmacchiato                              13.0       100\n",
       "cappuccino                                    10.0        50\n",
       "tazochaitealatte                              10.0       100\n",
       "tazofullleafredtealattevanillarooibos          9.0        80\n",
       "tazofullleaftealatte                           9.0        80\n",
       "javachip                                       7.0       150\n",
       "mochawithoutwhippedcream                       7.0       180\n",
       "javachipwithoutwhippedcream                    7.0       220\n",
       "coffee                                         6.0        90\n",
       "mocha                                          6.0       110\n",
       "strawberriescrmewithoutwhippedcream            6.0       170\n",
       "caramel                                        5.0       100\n",
       "vanillabeanwithoutwhippedcream                 5.0       170\n",
       "caramelwithoutwhippedcream                     5.0       180\n",
       "icedbrewedcoffeewithmilkclassicsyrup           4.0        80\n",
       "brewedcoffee                                   1.0         3\n",
       "caffamericano                                  1.0         5\n",
       "espresso                                       1.0         5\n",
       "icedbrewedcoffeewithclassicsyrup               0.4        60\n",
       "shakenicedtazotealemonadewithclassicsyrup      0.1       100\n",
       "tazotea                                        0.0         0\n",
       "shakenicedtazoteawithclassicsyrup              0.0        60\n",
       "caramelapplespicewithoutwhippedcream           0.0       140"
      ]
     },
     "execution_count": 64,
     "metadata": {},
     "output_type": "execute_result"
    }
   ],
   "source": [
    "# It's bulking season. What drink should Naitian get so that he maximizes protein but minimizes calories?\n",
    "# (you can use more than one line for this one)\n",
    "# there are multiple valid approaches you can take for this (with different answers)\n",
    "# I know that you want more calories for bulking season but whatever this is MDST, not Michigan Muscle Club okay\n",
    "df.groupby('beverage')[['protein', 'calories']].agg(\n",
    "    {'protein': 'max', 'calories': 'min'}).sort_values(['protein', 'calories'], ascending = [False,True])"
   ]
  },
  {
   "cell_type": "code",
   "execution_count": 75,
   "metadata": {},
   "outputs": [
    {
     "data": {
      "text/plain": [
       "<matplotlib.axes._subplots.AxesSubplot at 0x7f909b0839d0>"
      ]
     },
     "execution_count": 75,
     "metadata": {},
     "output_type": "execute_result"
    },
    {
     "data": {
      "image/png": "[encoded data removed]",
      "text/plain": [
       "<Figure size 432x288 with 1 Axes>"
      ]
     },
     "metadata": {
      "needs_background": "light"
     },
     "output_type": "display_data"
    }
   ],
   "source": [
    "# plot the distribution of the number of calories in drinks using matplotlib\n",
    "import matplotlib.pyplot as plt\n",
    "df['calories'].plot.hist()"
   ]
  },
  {
   "cell_type": "code",
   "execution_count": 85,
   "metadata": {},
   "outputs": [
    {
     "data": {
      "text/plain": [
       "<seaborn.axisgrid.FacetGrid at 0x7f909a4a40d0>"
      ]
     },
     "execution_count": 85,
     "metadata": {},
     "output_type": "execute_result"
    },
    {
     "data": {
      "image/png": "[encoded data removed]",
      "text/plain": [
       "<Figure size 360x360 with 1 Axes>"
      ]
     },
     "metadata": {},
     "output_type": "display_data"
    }
   ],
   "source": [
    "# plot the same distribution using seaborn. what about a density plot instead?\n",
    "import seaborn as sns\n",
    "sns.set()\n",
    "sns.displot(data=df, x='calories', stat = 'density')"
   ]
  },
  {
   "cell_type": "code",
   "execution_count": 89,
   "metadata": {},
   "outputs": [
    {
     "data": {
      "text/plain": [
       "<matplotlib.axes._subplots.AxesSubplot at 0x7f909c6f12e0>"
      ]
     },
     "execution_count": 89,
     "metadata": {},
     "output_type": "execute_result"
    },
    {
     "data": {
      "image/png": "[encoded data removed]",
      "text/plain": [
       "<Figure size 432x288 with 1 Axes>"
      ]
     },
     "metadata": {},
     "output_type": "display_data"
    }
   ],
   "source": [
    "# plot calories against total fat using seaborn\n",
    "sns.scatterplot(data =df, x = 'calories', y = 'total fat')"
   ]
  },
  {
   "cell_type": "code",
   "execution_count": 174,
   "metadata": {},
   "outputs": [
    {
     "data": {
      "text/plain": [
       "<matplotlib.axes._subplots.AxesSubplot at 0x7f9085409790>"
      ]
     },
     "execution_count": 174,
     "metadata": {},
     "output_type": "execute_result"
    },
    {
     "data": {
      "image/png": "[encoded data removed]",
      "text/plain": [
       "<Figure size 720x432 with 2 Axes>"
      ]
     },
     "metadata": {},
     "output_type": "display_data"
    }
   ],
   "source": [
    "# plot the distribution of calories in Short, Tall, Grande, and Venti drinks\n",
    "# (you can use multiple lines for this)\n",
    "# twist: you should also include the Nonfat Milk drinks that also have an associated size.\n",
    "\n",
    "# you can decide how you want to visualize this. Colors? Small multiples? Density vs histogram?\n",
    "# the starbucks is your oyster.\n",
    "\n",
    "# use isin() to get the desired data\n",
    "lst=['Venti', 'Grande', 'Tall', 'Short', 'Short Nonfat Milk',\n",
    "     'Tall Nonfat Milk', 'Grande Nonfat Milk','Venti Nonfat Milk' ]\n",
    "withfat_df = df[df['beverage_prep'].isin(lst[:4])]\n",
    "nonfat_df = df[df['beverage_prep'].isin(lst[4:])]\n",
    "\n",
    "fig,axs = plt.subplots(ncols=2, figsize=(10,6))\n",
    "sns.histplot(data= withfat_df, x= 'calories', hue = 'beverage_prep',\n",
    "             multiple='stack', palette = 'flare', ax=axs[0])\n",
    "sns.histplot(data= nonfat_df, x= 'calories', hue = 'beverage_prep',\n",
    "             multiple='stack', palette = 'crest', ax=axs[1])"
   ]
  },
  {
   "cell_type": "code",
   "execution_count": null,
   "metadata": {},
   "outputs": [],
   "source": []
  }
 ],
 "metadata": {
  "kernelspec": {
   "display_name": "Python 3",
   "language": "python",
   "name": "python3"
  },
  "language_info": {
   "codemirror_mode": {
    "name": "ipython",
    "version": 3
   },
   "file_extension": ".py",
   "mimetype": "text/x-python",
   "name": "python",
   "nbconvert_exporter": "python",
   "pygments_lexer": "ipython3",
   "version": "3.8.3"
  }
 },
 "nbformat": 4,
 "nbformat_minor": 5
}
